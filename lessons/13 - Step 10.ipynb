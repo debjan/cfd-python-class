{
 "metadata": {
  "name": "13 - Step 10"
 },
 "nbformat": 3,
 "nbformat_minor": 0,
 "worksheets": [
  {
   "cells": [
    {
     "cell_type": "raw",
     "metadata": {},
     "source": [
      "Text and code provided under a Creative Commons Attribution license, CC-BY. (c) Lorena A. Barba, 2013. Thanks: Gilbert Forsyth for help writing the notebooks. NSF for support via CAREER award #1149784."
     ]
    },
    {
     "cell_type": "markdown",
     "metadata": {},
     "source": [
      "[@LorenaABarba](https://twitter.com/LorenaABarba)"
     ]
    },
    {
     "cell_type": "markdown",
     "metadata": {},
     "source": [
      "12 steps to Navier-Stokes\n",
      "=====\n",
      "***"
     ]
    },
    {
     "cell_type": "markdown",
     "metadata": {},
     "source": [
      "For a moment, recall the Navier-Stokes equations for an incompressible fluid, where $\\vec{v}$ represents the velocity field:\n",
      "\n",
      "\\begin{eqnarray}\n",
      "\\nabla \\cdot\\vec{v} &=& 0\\\\\\\n",
      "\\frac{\\partial \\vec{v}}{\\partial t}+(\\vec{v}\\cdot\\nabla)\\vec{v} &=& -\\frac{1}{\\rho}\\nabla p + \\nu \\nabla^2\\vec{v}\n",
      "\\end{eqnarray}\n",
      "\n",
      "The first equation represents mass conservation at constant density. The second equation is the conservation of momentum. But a problem appears: the continuity equation for incompressble flow does not have a dominant variable and there is no obvious way to couple the velocity and the pressure. In the case of compressible flow, in contrast, mass continuity would provide an evolution equation for the density $\\rho$, which is coupled with an equation of state relating $\\rho$ and $p$.\n",
      "\n",
      "In incompressible flow, the continuity equation $\\nabla \\cdot\\vec{v}=0$ provides a *kinematic constraint* that requires the pressure field to evolve so that the rate of expansion $\\nabla \\cdot\\vec{v}$ should vanish everywhere. A way out of this difficulty is to *construct* a pressure field that guarantees continuity is satisfied; such a relation can be obtained by taking the divergence of the momentum equation. In that process, a Poisson equation for the pressure shows up!"
     ]
    },
    {
     "cell_type": "markdown",
     "metadata": {},
     "source": [
      "Step 10: 2D Poisson Equation\n",
      "----\n",
      "***"
     ]
    },
    {
     "cell_type": "markdown",
     "metadata": {},
     "source": [
      "Poisson's equation is obtained from adding a source term to the right-hand-side of Laplace's equation:\n",
      "\n",
      "$$\\frac{\\partial ^2 p}{\\partial x^2} + \\frac{\\partial ^2 p}{\\partial y^2} = b$$\n",
      "\n",
      "So, unlinke the Laplace equation, there is some finite value inside the field that affects the solution. Poisson's equation acts to \"relax\" the initial sources in the field.\n",
      "\n",
      "In discretized form, this looks almost the same as [Step 9](http://nbviewer.ipython.org/urls/bitbucket.org/cfdpython/cfd-python-class/raw/master/lessons/12%2520-%2520Step%25209.ipynb), except for the source term:\n",
      "\n",
      "$$\\frac{p_{i+1,j}^{n}-2p_{i,j}^{n}+p_{i-1,j}^{n}}{\\Delta x^2}+\\frac{p_{i,j+1}^{n}-2 p_{i,j}^{n}+p_{i,j-1}^{n}}{\\Delta y^2}=b_{i,j}^{n}$$\n",
      "\n",
      "As before, we rearrange this so that we obtain an equation for $p$ at point $i,j$. Thus, we obtain:\n",
      "\n",
      "$$p_{i,j}^{n}=\\frac{(p_{i+1,j}^{n}+p_{i-1,j}^{n})\\Delta y^2+(p_{i,j+1}^{n}+p_{i,j-1}^{n})\\Delta x^2-b_{i,j}^{n}\\Delta x^2\\Delta y^2}{2(\\Delta x^2+\\Delta y^2)}$$\n"
     ]
    },
    {
     "cell_type": "markdown",
     "metadata": {},
     "source": [
      "We will solve this equation by assuming an initial state of $p=0$ everywhere, and applying boundary conditions as follows:\n",
      "\n",
      "$p=0$ at $x=0, \\ 2$ and $y=0, \\ 1$\n",
      "\n",
      "and the source term consists of two initial spikes inside the domain, as follows:\n",
      "\n",
      "$b_{i,j}=100$ at $i=nx/4, j=ny/4$\n",
      "\n",
      "$b_{i,j}=-100$ at $i=nx*3/4, j=3/4 ny$\n",
      "\n",
      "$b_{i,j}=0$ everywhere else.\n",
      "\n",
      "The iterations will advance in pseudo-time to relax the initial spikes. The relaxation under Poisson's equation gets slower and slower as they progress. *Why?*"
     ]
    },
    {
     "cell_type": "markdown",
     "metadata": {},
     "source": [
      "Let's look at one possible way to write the code for Poisson's equation. As always, we load our favorite Python libraries. We also want to make some lovely plots in 3D. Let's get our parameters defined and the initialization out of the way. What do you notice of the approach below?"
     ]
    },
    {
     "cell_type": "code",
     "collapsed": false,
     "input": [
      "from mpl_toolkits.mplot3d import Axes3D\n",
      "from matplotlib import cm\n",
      "import matplotlib.pyplot as plt\n",
      "import numpy as np\n",
      "\n",
      "# Parameters\n",
      "nx = 50\n",
      "ny = 50\n",
      "nt  = 100\n",
      "xmin = 0.\n",
      "xmax = 2.\n",
      "ymin = 0.\n",
      "ymax = 1.\n",
      "\n",
      "dx = (xmax-xmin)/(nx-1)\n",
      "dy = (ymax-ymin)/(ny-1)\n",
      "\n",
      "# Initialization\n",
      "p  = np.zeros((nx,ny))\n",
      "pd = np.zeros((nx,ny))\n",
      "b  = np.zeros((nx,ny))\n",
      "x  = np.linspace(xmin,xmax,nx)\n",
      "y  = np.linspace(xmin,xmax,ny)\n",
      "\n",
      "# Source\n",
      "b[nx/4][ny/4]  = 100\n",
      "b[3*nx/4][3*ny/4] = -100\n"
     ],
     "language": "python",
     "metadata": {},
     "outputs": [],
     "prompt_number": 21
    },
    {
     "cell_type": "markdown",
     "metadata": {},
     "source": [
      "With that, we are ready to advance the initial guess in pseudo-time. How is the code below different from the function used in [Step 9](http://nbviewer.ipython.org/urls/bitbucket.org/cfdpython/cfd-python-class/raw/master/lessons/12%2520-%2520Step%25209.ipynb) to solve Laplace's equation?"
     ]
    },
    {
     "cell_type": "code",
     "collapsed": false,
     "input": [
      "for it in range(nt):\n",
      "\n",
      "    pd[:][:]=p[:][:]\n",
      "\n",
      "    p[1:nx-1,1:ny-1] = ( dy**2/(2*(dx**2+dy**2))*(pd[2:nx,1:ny-1]+pd[0:nx-2,1:ny-1]) +\n",
      "        \t\t dx**2/(2*(dx**2+dy**2))*(pd[1:nx-1,2:ny]+pd[1:nx-1,0:ny-2]) -\n",
      "\t\t\tb[1:nx-1,1:ny-1]*dx**2*dy**2/(2*(dx**2+dy**2)) )\n",
      "\n",
      "    p[0,:] = p[nx-1,:] = p[:,0] = p[:,ny-1] = 0.0"
     ],
     "language": "python",
     "metadata": {},
     "outputs": [],
     "prompt_number": 24
    },
    {
     "cell_type": "markdown",
     "metadata": {},
     "source": [
      "Maybe we could reuse our plotting function from [Step 9](http://nbviewer.ipython.org/urls/bitbucket.org/cfdpython/cfd-python-class/raw/master/lessons/12%2520-%2520Step%25209.ipynb), don't you think?"
     ]
    },
    {
     "cell_type": "code",
     "collapsed": false,
     "input": [
      "def plot2D(x, y, p):\n",
      "    fig = plt.figure(figsize=(11,7), dpi=100)\n",
      "    ax = fig.gca(projection='3d')\n",
      "    X,Y = np.meshgrid(x,y)\n",
      "    surf = ax.plot_surface( X,Y,p[:], rstride=1, cstride=1, cmap=cm.coolwarm,\n",
      "            linewidth=0, antialiased=False )\n",
      "    ax.set_xlim(0,2)\n",
      "    ax.set_ylim(0,1)\n",
      "    ax.view_init(30,225)"
     ],
     "language": "python",
     "metadata": {},
     "outputs": [],
     "prompt_number": 25
    },
    {
     "cell_type": "code",
     "collapsed": false,
     "input": [
      "plot2D(x, y, p)"
     ],
     "language": "python",
     "metadata": {},
     "outputs": [
      {
       "output_type": "display_data",
       "png": "[encoded data removed]"
      }
     ],
     "prompt_number": 26
    },
    {
     "cell_type": "markdown",
     "metadata": {},
     "source": [
      "Ah! The wonders of code reuse! Now, you probably think: \"Well, if I've written this neat little function that does something so useful, I want to use it over and over again. How can I do this without copying and pasting it each time? \u2014If you are very curious about this, you'll have to learn about *packaging*. But this goes beyond the scope of our CFD lessons. You'll just have to Google it if you really want to know."
     ]
    },
    {
     "cell_type": "markdown",
     "metadata": {},
     "source": [
      "***"
     ]
    },
    {
     "cell_type": "heading",
     "level": 2,
     "metadata": {},
     "source": [
      "Learn More"
     ]
    },
    {
     "cell_type": "markdown",
     "metadata": {},
     "source": [
      "To learn more about the role of the Poisson equation in CFD, watch **Video Lesson 11** on You Tube:"
     ]
    },
    {
     "cell_type": "code",
     "collapsed": false,
     "input": [
      "from IPython.display import YouTubeVideo\n",
      "YouTubeVideo('ZjfxA3qq2Lg')"
     ],
     "language": "python",
     "metadata": {},
     "outputs": [
      {
       "html": [
        "\n",
        "            <iframe\n",
        "                width=\"400\"\n",
        "                height=\"300\"\n",
        "                src=\"http://www.youtube.com/embed/ZjfxA3qq2Lg\"\n",
        "                frameborder=\"0\"\n",
        "                allowfullscreen\n",
        "            ></iframe>\n",
        "        "
       ],
       "output_type": "pyout",
       "prompt_number": 2,
       "text": [
        "<IPython.lib.display.YouTubeVideo at 0x10ba01d50>"
       ]
      }
     ],
     "prompt_number": 2
    },
    {
     "cell_type": "code",
     "collapsed": false,
     "input": [
      "from IPython.core.display import HTML\n",
      "def css_styling():\n",
      "    styles = open(\"../styles/custom.css\", \"r\").read()\n",
      "    return HTML(styles)\n",
      "css_styling()"
     ],
     "language": "python",
     "metadata": {},
     "outputs": [
      {
       "html": [
        "<style>\n",
        "    @font-face {\n",
        "        font-family: \"Computer Modern\";\n",
        "        src: url('http://mirrors.ctan.org/fonts/cm-unicode/fonts/otf/cmunss.otf');\n",
        "    }\n",
        "    div.cell{\n",
        "        width:800px;\n",
        "        margin-left:16% !important;\n",
        "        margin-right:auto;\n",
        "    }\n",
        "    h1 {\n",
        "        font-family: Helvetica, serif;\n",
        "    }\n",
        "    h2 {\n",
        "        font-family: Helvetica, serif;\n",
        "    }\n",
        "    h4{\n",
        "        margin-top:12px;\n",
        "        margin-bottom: 3px;\n",
        "       }\n",
        "    div.text_cell_render{\n",
        "        font-family: Computer Modern, \"Helvetica Neue\", Arial, Helvetica, Geneva, sans-serif;\n",
        "        line-height: 135%;\n",
        "        font-size: 120%;\n",
        "        width:600px;\n",
        "        margin-left:auto;\n",
        "        margin-right:auto;\n",
        "    }\n",
        "    .CodeMirror{\n",
        "            font-family: \"Source Code Pro\", source-code-pro,Consolas, monospace;\n",
        "    }\n",
        "/*    .prompt{\n",
        "        display: None;\n",
        "    }*/\n",
        "    .text_cell_render h5 {\n",
        "        font-weight: 300;\n",
        "        font-size: 16pt;\n",
        "        color: #4057A1;\n",
        "        font-style: italic;\n",
        "        margin-bottom: .5em;\n",
        "        margin-top: 0.5em;\n",
        "        display: block;\n",
        "    }\n",
        "    \n",
        "    .warning{\n",
        "        color: rgb( 240, 20, 20 )\n",
        "        }  \n",
        "</style>\n",
        "<script>\n",
        "    MathJax.Hub.Config({\n",
        "                        TeX: {\n",
        "                           extensions: [\"AMSmath.js\"]\n",
        "                           },\n",
        "                tex2jax: {\n",
        "                    inlineMath: [ ['$','$'], [\"\\\\(\",\"\\\\)\"] ],\n",
        "                    displayMath: [ ['$$','$$'], [\"\\\\[\",\"\\\\]\"] ]\n",
        "                },\n",
        "                displayAlign: 'center', // Change this to 'center' to center equations.\n",
        "                \"HTML-CSS\": {\n",
        "                    styles: {'.MathJax_Display': {\"margin\": 4}}\n",
        "                }\n",
        "        });\n",
        "</script>"
       ],
       "output_type": "pyout",
       "prompt_number": 1,
       "text": [
        "<IPython.core.display.HTML at 0x10ba0c0d0>"
       ]
      }
     ],
     "prompt_number": 1
    },
    {
     "cell_type": "markdown",
     "metadata": {},
     "source": [
      "> (The cell above executes the style for this notebook.)"
     ]
    }
   ],
   "metadata": {}
  }
 ]
}